{
 "cells": [
  {
   "cell_type": "markdown",
   "metadata": {},
   "source": [
    "<img src=\"../images/cads-logo.png\" style=\"height: 100px;\" align=left> \n",
    "<img src=\"../images/python-logo.png\" style=\"height: 100px;\" align=right>"
   ]
  },
  {
   "cell_type": "markdown",
   "metadata": {},
   "source": [
    "# Statistical Data Analysis\n",
    "Day 1.2"
   ]
  },
  {
   "cell_type": "markdown",
   "metadata": {},
   "source": [
    "## Content outline \n",
    "\n",
    "1. [Random Variables](#random_var)\n",
    "2. [Graphs of probability distributions](#proba_dist)\n",
    "    * [Probability Mass Function (PMF)](#pmf)\n",
    "    * [Cumulative Distribution Function (CDF) for discrete random variables](#discretecdf)\n",
    "    * [Probability Distribution function (PDF)](#pdf)\n",
    "    * [Cumulative Distribution function (CDF) for continuous random variables](#continuouscdf)\n",
    "3. [Some common distributions](#common_distribution)\n",
    "    * [Normal Distribution](#normal)\n",
    "    * [Binomial Distribution](#binomial)\n",
    "    * [Poisson Distribution](#poisson)\n",
    "    * [Exponential Distribution](#exponential)"
   ]
  },
  {
   "cell_type": "code",
   "execution_count": 1,
   "metadata": {},
   "outputs": [],
   "source": [
    "import numpy as np \n",
    "import seaborn as sns \n",
    "import pandas as pd \n",
    "import matplotlib.pyplot as plt \n",
    "from scipy.stats import binom, gamma, norm, poisson, expon"
   ]
  },
  {
   "cell_type": "markdown",
   "metadata": {},
   "source": [
    "<a name='random_var'> </a>\n",
    "\n",
    "# 1. Random Variables\n",
    "\n",
    "So far, we have studied the probability of categorical variables such as *blood type*, *gender*, etc. however, we need to consider the probability of numerical variables as well.\n",
    "\n",
    "A **random variable**, usually written as $X$, is the outcome of a random experience. "
   ]
  },
  {
   "cell_type": "markdown",
   "metadata": {},
   "source": [
    "<div class = \"alert alert-block alert-info\">\n",
    "<b>Example</b>\n",
    "<p>\n",
    "    Consider the random experiment of flipping a coin twice. The sample space of possible outcomes is $S = \\{ HH, HT, TH, TT \\}$.\n",
    "\n",
    "If the random variable $X$ is **the number of heads** that the random experiment will produce, then the following are the possible outcomes for $X$: \n",
    "\n",
    "* If the outcome is HH, we will have two heads, so the value for $X$ is 2.\n",
    "* If the outcome is HT, we will get one head, so the value for $X$ is 1.\n",
    "* If the outcome is TH, we also will get one head, so the value for $X$ is 1.\n",
    "* Lastly, if the outcome is TT, we will get no heads, so the value for $X$ is 0.\n",
    "\n",
    "Therefore, $X$ is a **quantitative variable** that takes the possible values of 0, 1, or 2. It is *random* because we do not know which of the three values the variable will eventually take. \n",
    "\n",
    "We can ask questions like:\n",
    "\n",
    "* What is the probability that $X$ will be 2? In other words, what is the probability of getting 2 heads?\n",
    "* What is the probability that $X$ will be at least 1? In other words, what is the probability of getting at least 1 head?\n",
    "</div>"
   ]
  },
  {
   "cell_type": "markdown",
   "metadata": {},
   "source": [
    "As you can see, random variables are not really a new concept, but just a different way of looking at the same problem.\n",
    "\n",
    "Note that if we had tossed a coin three times, the possible values for the number of tails would be $0, 1, 2,$ or $3$. In general, if we toss a coin \"n\" times, the possible number of tails would be $0, 1, 2, 3, ... , n$."
   ]
  },
  {
   "cell_type": "markdown",
   "metadata": {},
   "source": [
    "<div class = \"alert alert-block alert-info\">\n",
    "<b>Example</b>\n",
    "<p>\n",
    "    Let's say we choose a male university student and record his height. What is the sample space? Can you list that?\n",
    "\n",
    "> The random variable $X$, **the height of the male student**, is continuous and the sample space is an interval.\n",
    "</div>"
   ]
  },
  {
   "cell_type": "markdown",
   "metadata": {},
   "source": [
    "A random variable like the one in the first example, whose possible values is a list of distinct values, is called a **discrete random variable**. A random variable like the one in the second example, that can take any value in an interval, is called a **continuous random variable**."
   ]
  },
  {
   "cell_type": "markdown",
   "metadata": {},
   "source": [
    "<div class = \"alert alert-block alert-warning\">\n",
    "<b>Exercise</b>\n",
    "<p>\n",
    "Choose a college student at random. Is the following a discrete or continuous random variable? \n",
    "\n",
    "a. The number of courses the student takes this semester <br>\n",
    "\n",
    "b. The student's weight <br>\n",
    "\n",
    "\n",
    "c. The number of siblings the student has<br>\n",
    "\n",
    "</div>"
   ]
  },
  {
   "cell_type": "code",
   "execution_count": null,
   "metadata": {},
   "outputs": [],
   "source": [
    "#MC\n",
    "#Type your answer here.\n",
    "\n",
    "print('a. Discrete Random Variable')\n",
    "print('b. Continuous Random Variable')\n",
    "print('c. Discrete Random Variable')"
   ]
  },
  {
   "cell_type": "markdown",
   "metadata": {},
   "source": [
    "# 2. Graphs of probability distributions <a name='proba_dist'> </a>\n",
    "\n",
    "## Probability Mass Function (PMF) <a name='pmf'> </a>\n",
    "\n",
    "The probability that the realisation of a discrete random variable is equal to a given number is given by a Probability Mass Function."
   ]
  },
  {
   "cell_type": "markdown",
   "metadata": {},
   "source": [
    "<div class = \"alert alert-block alert-info\">\n",
    "<b>Example</b>\n",
    "<p>\n",
    "Let $X$ be the outcome of rolling a dice. The probability of the outcome is given by the following PMF:\n",
    "\n",
    "$$ PMF_X(x) = P(X=x) = \n",
    "                \\begin{cases}\n",
    "                    1/6, & x=1 \\\\\n",
    "                    1/6, & x=2 \\\\\n",
    "                    1/6, & x=3 \\\\\n",
    "                    1/6, & x=4 \\\\\n",
    "                    1/6, & x=5 \\\\\n",
    "                    1/6, & x=6 \n",
    "                \\end{cases} $$\n",
    "Let's draw the PMF for this random variable:\n",
    "</div>"
   ]
  },
  {
   "cell_type": "code",
   "execution_count": 5,
   "metadata": {},
   "outputs": [
    {
     "data": {
      "text/plain": [
       "1    0.166667\n",
       "2    0.166667\n",
       "3    0.166667\n",
       "4    0.166667\n",
       "5    0.166667\n",
       "6    0.166667\n",
       "dtype: float64"
      ]
     },
     "execution_count": 5,
     "metadata": {},
     "output_type": "execute_result"
    }
   ],
   "source": [
    "pd.Series(np.repeat(1/6, 6), index=np.arange(1,7))"
   ]
  },
  {
   "cell_type": "code",
   "execution_count": 3,
   "metadata": {},
   "outputs": [
    {
     "data": {
      "image/png": "[encoded data removed]",
      "text/plain": [
       "<Figure size 432x288 with 1 Axes>"
      ]
     },
     "metadata": {
      "needs_background": "light"
     },
     "output_type": "display_data"
    }
   ],
   "source": [
    "pd.Series(np.repeat(1/6, 6), index=np.arange(1,7))\\\n",
    "           .plot.bar(title = \"Probability Mass Function of X\",\n",
    "                                      ylim = (0,1), color='blue');"
   ]
  },
  {
   "cell_type": "markdown",
   "metadata": {},
   "source": [
    "<div class = \"alert alert-block alert-info\">\n",
    "<b>Example</b>\n",
    "<p>\n",
    "    Suppose we want to calculate how the sum of multiple dice rolls is distributed.\n",
    "\n",
    "Let the variable $X$ represent the sum of the outcome of rolling 2 dice.\n",
    "\n",
    "Also assume that the random variable $A_1$ represents the outcome of dice 1, and the random variable $A_2$ represents the outcome of dice 2, i.e. $X=A_1+A_2$. Then:\n",
    "\n",
    "$$ PMF_{X}(x) = P(X=x) = \n",
    "                \\begin{cases}\n",
    "                    0, & x=1 \\\\\n",
    "                    P(\\{A_1=1\\, \\&\\, A_2=1\\})=P(A_1=1) * P(A_2=1)=1/6 * 1/6=1/36, & x=2 \\\\\n",
    "                    P(\\{A_1=1\\, \\&\\, A_2=2\\}\\, or\\, \\{A_1=2\\, \\&\\, A_2=1\\})= 2/36, & x=3 \\\\\n",
    "                    P(\\{A_1=1\\, \\&\\, A_2=3\\}\\, or\\, \\{A_1=3\\, \\&\\, A_2=1\\}\\, or\\, \\{A_1=2\\, \\&\\, A_2=2\\})=3/36, & x=4 \\\\\n",
    "                    P(\\{1\\, \\&\\, 4\\}\\, or\\, \\{2\\, \\&\\, 3\\}\\, or\\, \\{3\\, \\&\\, 2\\}\\, or\\, \\{4\\, \\&\\, 1\\})=4/36, & x=5 \\\\\n",
    "                    P(\\{1\\, \\&\\, 5\\}\\, or\\, \\{2\\, \\&\\, 4\\}\\, or\\, \\{3\\, \\&\\, 3\\}\\, or\\, \\{4\\, \\&\\, 2\\}\\, or\\, \\{5\\, \\&\\, 1\\})=5/36, & x=6 \\\\\n",
    "                    P(\\{1\\, \\&\\, 6\\}\\, or\\, \\{2\\, \\&\\, 5\\}\\, or\\, \\{3\\, \\&\\, 4\\}\\, or\\, \\{4\\, \\&\\, 3\\}\\, or\\, \\{5\\, \\&\\, 2\\}\\, or\\, \\{6\\, \\&\\, 1\\})=6/36 & x=7 \\\\\n",
    "                    .\\\\\n",
    "                    .\\\\\n",
    "                    .\\\\\n",
    "                    ..., & x=12\n",
    "                \\end{cases} $$\n",
    "                </div>"
   ]
  },
  {
   "cell_type": "markdown",
   "metadata": {},
   "source": [
    "<div class = \"alert alert-block alert-warning\">\n",
    "<b>Exercise</b>\n",
    "<p>\n",
    "Complete the above calculation for $PMF_X(x)$:\n",
    "\n",
    "> $$ PMF_{X}(x) = P(X=x) = \n",
    "                \\begin{cases}\n",
    "                    0, & x=1 \\\\\n",
    "                    P(\\{A_1=1\\, \\&\\, A_2=1\\})=P(A_1=1) * P(A_2=1)=1/6 * 1/6=1/36, & x=2 \\\\\n",
    "                    P(\\{A_1=1\\, \\&\\, A_2=2\\}\\, or\\, \\{A_1=2 \\& A_2=1\\})= 2/36, & x=3 \\\\\n",
    "                    P(\\{A_1=1\\, \\&\\, A_2=3\\}\\, or\\, \\{A_1=3 \\& A_2=1\\} \\,or\\, \\{A_1=2 \\& A_2=2\\})=3/36, & x=4 \\\\\n",
    "                    P(\\{1\\, \\&\\, 4\\}\\, or\\, \\{2\\, \\& \\,3\\}\\, or\\, \\{3 \\,\\&\\, 2\\}\\, or\\, \\{4\\, \\&\\, 1\\})=4/36, & x=5 \\\\\n",
    "                    P(\\{1\\, \\&\\, 5\\}\\, or\\, \\{2\\, \\& \\,4\\}\\, or\\, \\{3\\, \\&\\, 3\\}\\, or\\, \\{4\\, \\&\\, 2\\}\\, or\\, \\{5\\, \\&\\, 1\\})=5/36, & x=6 \\\\\n",
    "                    P(\\{1\\, \\&\\, 6\\}\\, or\\, \\{2 \\,\\& \\,5\\}\\, or \\,\\{3\\, \\& \\,4\\}\\, or\\, \\{4\\, \\&\\, 3\\}\\, or\\, \\{5\\, \\&\\, 2\\}\\, or\\, \\{6\\, \\&\\, 1\\})=6/36 & x=7 \\\\\n",
    "                   P(\\{2\\, \\& \\,6\\}\\, or\\, \\{3 \\,\\& \\,5\\}\\, or\\, \\{4\\, \\& \\,4\\}\\, or \\,\\{5\\, \\&\\, 3\\} \\,or \\,\\{6\\, \\&\\, 2\\})=5/36 & x=8 \\\\\n",
    "                    P(\\{3\\, \\&\\, 6\\}\\, or\\, \\{4 \\,\\& \\,5\\}\\, or\\, \\{5\\, \\&\\, 4\\}\\, or \\,\\{6 \\,\\& \\,3\\} )=4/36 & x=9 \\\\\n",
    "                   P(\\{4\\, \\&\\, 6\\}\\, or\\, \\{5 \\,\\& \\,5\\}\\, or\\, \\{6 \\,\\& \\,4\\})=3/36 & x=10 \\\\\n",
    "                    P(\\{5\\, \\&\\, 6\\}\\, or\\, \\{6\\, \\&\\, 5\\})=2/36 & x=11 \\\\\n",
    "                    P(\\{6\\, \\& \\,6\\})=1/36 & x=12\\\\\n",
    "                \\end{cases} $$\n",
    "                </div>"
   ]
  },
  {
   "cell_type": "markdown",
   "metadata": {},
   "source": [
    "We can perform a computer simulation to obtain the PMF: "
   ]
  },
  {
   "cell_type": "code",
   "execution_count": 13,
   "metadata": {},
   "outputs": [
    {
     "data": {
      "text/plain": [
       "2     0.02886\n",
       "3     0.05762\n",
       "4     0.08228\n",
       "5     0.11284\n",
       "6     0.13778\n",
       "7     0.16388\n",
       "8     0.13834\n",
       "9     0.11186\n",
       "10    0.08322\n",
       "11    0.05550\n",
       "12    0.02782\n",
       "dtype: float64"
      ]
     },
     "execution_count": 13,
     "metadata": {},
     "output_type": "execute_result"
    }
   ],
   "source": [
    "a1_a2 = pd.Series([sum(np.random.choice(np.arange(1,7), 2)) for i in range(50000)])\n",
    "a1_a2_dist = a1_a2.value_counts(sort = False, normalize = True).sort_index()\n",
    "a1_a2_dist"
   ]
  },
  {
   "cell_type": "code",
   "execution_count": 14,
   "metadata": {},
   "outputs": [
    {
     "data": {
      "text/plain": [
       "<matplotlib.axes._subplots.AxesSubplot at 0x7fdb83908700>"
      ]
     },
     "execution_count": 14,
     "metadata": {},
     "output_type": "execute_result"
    },
    {
     "data": {
      "image/png": "[encoded data removed]",
      "text/plain": [
       "<Figure size 432x288 with 1 Axes>"
      ]
     },
     "metadata": {
      "needs_background": "light"
     },
     "output_type": "display_data"
    }
   ],
   "source": [
    "a1_a2_dist.plot.bar(title = \"Distribution of sum of the two dice\");"
   ]
  },
  {
   "cell_type": "markdown",
   "metadata": {},
   "source": [
    "We see that the most popular outcome is 7. Why is it so?\n",
    "\n",
    "**As a probability, the sum of all values of a PMF must equal to 1.**"
   ]
  },
  {
   "cell_type": "markdown",
   "metadata": {},
   "source": [
    "The number of occurences for each value of the sum is given by the count of possible outcomes in the diagonal (\"/\") direction, where the row number and column number add to that specified number. For example, the mode, 7, ic romprised of the following events: 1+6, 2+5, 3+4, 4+3, 5+2, 6+1, and occurs a total of 6 out of 36 times.\n",
    "\n",
    "![](../images/Discrete_sum.png)\n",
    "\n",
    "The PMF of the sum of two dice rolls can therefore be summarised as follows: \n",
    "$$ PMF_X(x)=PMF_{A_1+A_2}(x)=P(A_1 + A_2 = x) =\n",
    "\\begin{cases}\n",
    "    1/36, & x=2 \\\\\n",
    "    2/36, & x=3 \\\\\n",
    "    3/36, & x=4 \\\\\n",
    "    4/36, & x=5 \\\\\n",
    "    5/36, & x=6 \\\\\n",
    "    6/36, & x=7 \\\\\n",
    "    5/36, & x=8 \\\\\n",
    "    4/36, & x=9 \\\\\n",
    "    3/36, & x=10 \\\\\n",
    "    2/36, & x=11 \\\\\n",
    "    1/36. & x=12 \n",
    "\\end{cases} $$\n",
    "\n",
    "For any discrete random variable $X$, the value of the PMF of $X$ at $x$, $PMF_X(x)$ is the probability that $X$ takes on the value of $x$, $P(X=x)$."
   ]
  },
  {
   "cell_type": "markdown",
   "metadata": {},
   "source": [
    "## Cumulative Distribution Function (CDF) for discrete random variables<a name='discretecdf'> </a>\n",
    "\n",
    "For discrete random variables, the height of the cumulative distribution function at $x$ is the sum of probability mass on the left of $x$, or,  $$CDF_X(x) = P(X \\leq x)$$ \n",
    "\n",
    "For the previous example of $X = A_1 + A_2$, calculate $CDF_X(x)$. \n",
    "\n",
    "$$ CDF_X(x) = P(X \\leq  x) = P(A_1 + A_2 \\leq  x)=\n",
    "\\begin{cases}\n",
    "    P(A_1 + A_2 \\leq  2) = P(A_1 + A_2 =  2)=1/36, & x=2 \\\\\n",
    "    P(A_1 + A_2 \\leq  3) = P(A_1 + A_2 =  2 or A_1 + A_2 =  3)= 1/36 + 2/36 = 3/36, & x=3 \\\\\n",
    "    P(A_1 + A_2 \\leq  4) = P(A_1 + A_2 =  2 or A_1 + A_2 =  3 or A_1 + A_2 =  4)=1/36+2/36+3/36=6/36, & x=4 \\\\\n",
    "    ..., & x=5 \\\\\n",
    "    ..., & x=6 \\\\\n",
    "    ..., & x=7 \\\\\n",
    "    ..., & x=8 \\\\\n",
    "    ..., & x=9 \\\\\n",
    "    ..., & x=10 \\\\\n",
    "    ..., & x=11 \\\\\n",
    "    ...,  & x=12 \n",
    "\\end{cases} $$"
   ]
  },
  {
   "cell_type": "markdown",
   "metadata": {},
   "source": [
    "<div class = \"alert alert-block alert-warning\">\n",
    "<b>Exercise</b>\n",
    "<p>\n",
    "Complete the calculation of $CDF_X(x)$ for the above example:\n",
    "\n",
    "> $$ CDF_X(x) = P(X \\leq  x) = P(A_1 + A_2 \\leq  x) \n",
    "\\begin{cases}\n",
    "    P(A_1 + A_2 \\leq  2) = P(A_1 + A_2 =  2)=1/36, & x=2 \\\\\n",
    "    P(A_1 + A_2 \\leq  3) = P(A_1 + A_2 \\leq   2 or A_1 + A_2 =  3)= 1/36 + 2/36 = 3/36, & x=3 \\\\\n",
    "    P(A_1 + A_2 \\leq  4) = P(A_1 + A_2 \\leq   3 or A_1 + A_2 =  4) = 3/36+3/36=6/36,  & x=4 \\\\\n",
    "    P(A_1 + A_2 \\leq  5) = P(A_1 + A_2 \\leq   4 or A_1 + A_2 =  5) = 6/36+4/36=10/36, & x=5 \\\\\n",
    "    P(A_1 + A_2 \\leq  6) = P(A_1 + A_2 \\leq   5 or A_1 + A_2 =  6) = 10/36+5/36=15/36, & x=6 \\\\\n",
    "    P(A_1 + A_2 \\leq  7) = P(A_1 + A_2 \\leq   6 or A_1 + A_2 =  7) = 15/36+6/36=21/36, & x=7 \\\\\n",
    "    P(A_1 + A_2 \\leq  8) = P(A_1 + A_2 \\leq   7 or A_1 + A_2 =  8) = 21/36+5/36=26/36, & x=8 \\\\\n",
    "    P(A_1 + A_2 \\leq  9) = P(A_1 + A_2 \\leq   8 or A_1 + A_2 =  9) = 26/36+4/36=30/36, & x=9 \\\\\n",
    "    P(A_1 + A_2 \\leq  10) = P(A_1 + A_2 \\leq  9 or A_1 + A_2 =  10) = 30/36+3/36=33/36, & x=10 \\\\\n",
    "    P(A_1 + A_2 \\leq  11) = P(A_1 + A_2 \\leq  10 or A_1 + A_2 =  11) = 33/36+2/36=35/36, & x=11 \\\\\n",
    "    P(A_1 + A_2 \\leq  12) = P(A_1 + A_2 \\leq  11 or A_1 + A_2 =  12) = 35/36+1/36=36/36 = 1,  & x=12 \n",
    "\\end{cases} $$\n",
    "</div>"
   ]
  },
  {
   "cell_type": "code",
   "execution_count": null,
   "metadata": {},
   "outputs": [],
   "source": [
    "CDF_X(x)=CDF_X(x-1)+PMF_X(x)"
   ]
  },
  {
   "cell_type": "markdown",
   "metadata": {},
   "source": [
    "The CDF is shown below in red:"
   ]
  },
  {
   "cell_type": "code",
   "execution_count": 16,
   "metadata": {},
   "outputs": [],
   "source": [
    "pmf_dice = a1_a2.value_counts(sort = False, normalize = True).sort_index()\n",
    "dice_dist = pd.DataFrame({'pmf': pmf_dice, \n",
    "                          'cdf': np.cumsum(pmf_dice)})"
   ]
  },
  {
   "cell_type": "code",
   "execution_count": 17,
   "metadata": {},
   "outputs": [
    {
     "data": {
      "text/html": [
       "<div>\n",
       "<style scoped>\n",
       "    .dataframe tbody tr th:only-of-type {\n",
       "        vertical-align: middle;\n",
       "    }\n",
       "\n",
       "    .dataframe tbody tr th {\n",
       "        vertical-align: top;\n",
       "    }\n",
       "\n",
       "    .dataframe thead th {\n",
       "        text-align: right;\n",
       "    }\n",
       "</style>\n",
       "<table border=\"1\" class=\"dataframe\">\n",
       "  <thead>\n",
       "    <tr style=\"text-align: right;\">\n",
       "      <th></th>\n",
       "      <th>pmf</th>\n",
       "      <th>cdf</th>\n",
       "    </tr>\n",
       "  </thead>\n",
       "  <tbody>\n",
       "    <tr>\n",
       "      <th>2</th>\n",
       "      <td>0.02886</td>\n",
       "      <td>0.02886</td>\n",
       "    </tr>\n",
       "    <tr>\n",
       "      <th>3</th>\n",
       "      <td>0.05762</td>\n",
       "      <td>0.08648</td>\n",
       "    </tr>\n",
       "    <tr>\n",
       "      <th>4</th>\n",
       "      <td>0.08228</td>\n",
       "      <td>0.16876</td>\n",
       "    </tr>\n",
       "    <tr>\n",
       "      <th>5</th>\n",
       "      <td>0.11284</td>\n",
       "      <td>0.28160</td>\n",
       "    </tr>\n",
       "    <tr>\n",
       "      <th>6</th>\n",
       "      <td>0.13778</td>\n",
       "      <td>0.41938</td>\n",
       "    </tr>\n",
       "    <tr>\n",
       "      <th>7</th>\n",
       "      <td>0.16388</td>\n",
       "      <td>0.58326</td>\n",
       "    </tr>\n",
       "    <tr>\n",
       "      <th>8</th>\n",
       "      <td>0.13834</td>\n",
       "      <td>0.72160</td>\n",
       "    </tr>\n",
       "    <tr>\n",
       "      <th>9</th>\n",
       "      <td>0.11186</td>\n",
       "      <td>0.83346</td>\n",
       "    </tr>\n",
       "    <tr>\n",
       "      <th>10</th>\n",
       "      <td>0.08322</td>\n",
       "      <td>0.91668</td>\n",
       "    </tr>\n",
       "    <tr>\n",
       "      <th>11</th>\n",
       "      <td>0.05550</td>\n",
       "      <td>0.97218</td>\n",
       "    </tr>\n",
       "    <tr>\n",
       "      <th>12</th>\n",
       "      <td>0.02782</td>\n",
       "      <td>1.00000</td>\n",
       "    </tr>\n",
       "  </tbody>\n",
       "</table>\n",
       "</div>"
      ],
      "text/plain": [
       "        pmf      cdf\n",
       "2   0.02886  0.02886\n",
       "3   0.05762  0.08648\n",
       "4   0.08228  0.16876\n",
       "5   0.11284  0.28160\n",
       "6   0.13778  0.41938\n",
       "7   0.16388  0.58326\n",
       "8   0.13834  0.72160\n",
       "9   0.11186  0.83346\n",
       "10  0.08322  0.91668\n",
       "11  0.05550  0.97218\n",
       "12  0.02782  1.00000"
      ]
     },
     "execution_count": 17,
     "metadata": {},
     "output_type": "execute_result"
    }
   ],
   "source": [
    "dice_dist"
   ]
  },
  {
   "cell_type": "code",
   "execution_count": 18,
   "metadata": {},
   "outputs": [
    {
     "data": {
      "text/plain": [
       "<matplotlib.legend.Legend at 0x7fdb836c4370>"
      ]
     },
     "execution_count": 18,
     "metadata": {},
     "output_type": "execute_result"
    },
    {
     "data": {
      "image/png": "[encoded data removed]",
      "text/plain": [
       "<Figure size 432x288 with 1 Axes>"
      ]
     },
     "metadata": {
      "needs_background": "light"
     },
     "output_type": "display_data"
    }
   ],
   "source": [
    "ax = plt.subplot()\n",
    "ax.bar(x = dice_dist.index, height = dice_dist.pmf, label = \"pmf\")\n",
    "ax.step(x = dice_dist.index, y = dice_dist.cdf, c = 'red', label = \"cdf\")\n",
    "\n",
    "plt.suptitle('PMF vs CDF of $A_1$ vs. $A_2$')\n",
    "plt.title('CDF is shown in red', color='grey')\n",
    "plt.xlabel('$A_1 + A_2$')\n",
    "plt.ylabel(\"Probability\")\n",
    "plt.legend()"
   ]
  },
  {
   "cell_type": "markdown",
   "metadata": {},
   "source": [
    "<div class = \"alert alert-block alert-warning\">\n",
    "<b>Exercise</b>\n",
    "<p>\n",
    "    A random variable $X$ has a probability distribution of\n",
    "\n",
    "$$P(X =  x) =  \\frac{x+2}{42}, \\hspace{1cm}  x=1,2,3,4,5,6,7$$\n",
    "\n",
    "\n",
    "\n",
    "&nbsp;&nbsp;&nbsp;&nbsp;&nbsp;&nbsp;a. Complete the table representation of $PMF_X(x)$\n",
    "\n",
    "> \\begin{array} {|c|c|}\n",
    "\\hline x &1 &2 &3 &4 &5 &6 &7 \\\\ \n",
    "\\hline \n",
    "PMF_X(x) &   & &  & & & &   \\\\\n",
    "\\hline\n",
    "\\end{array}\n",
    "\n",
    "\n",
    "\n",
    "&nbsp;&nbsp;&nbsp;&nbsp;&nbsp;&nbsp;b. Complete the table representation of $CDF_X(x)$\n",
    "\n",
    "> \\begin{array} {|c|c|}\n",
    "\\hline x &1 &2 &3 &4 &5 &6 &7 \\\\ \n",
    "\\hline \n",
    "CDF_X(x) & & & & & & &  \\\\\n",
    "\\hline\n",
    "\\end{array}\n",
    "\n",
    "</div>"
   ]
  },
  {
   "cell_type": "code",
   "execution_count": null,
   "metadata": {},
   "outputs": [],
   "source": [
    "range(1, 8, 1)"
   ]
  },
  {
   "cell_type": "code",
   "execution_count": 19,
   "metadata": {},
   "outputs": [
    {
     "name": "stdout",
     "output_type": "stream",
     "text": [
      "[0.07, 0.1, 0.12, 0.14, 0.17, 0.19, 0.21]\n",
      "[0.07 0.17 0.29 0.43 0.6  0.79 1.  ]\n"
     ]
    }
   ],
   "source": [
    "#MC\n",
    "# Type your answer here.\n",
    "\n",
    "pmf=[]\n",
    "cdf=[]\n",
    "\n",
    "for i in range(1, 8, 1):\n",
    "    pmf.append(round((i+2)/42,2))\n",
    "    \n",
    "cdf = np.cumsum(pmf)\n",
    "\n",
    "print(pmf)\n",
    "print(cdf)"
   ]
  },
  {
   "cell_type": "markdown",
   "metadata": {},
   "source": [
    "<div class = \"alert alert-block alert-warning\">\n",
    "<b>Exercise</b>\n",
    "<p>\n",
    "    Plot $PMF_X(x)$ and $CDF_X(x)$ on the same pair of axes.\n",
    "    </div>"
   ]
  },
  {
   "cell_type": "code",
   "execution_count": 21,
   "metadata": {},
   "outputs": [
    {
     "data": {
      "image/png": "[encoded data removed]",
      "text/plain": [
       "<Figure size 432x288 with 1 Axes>"
      ]
     },
     "metadata": {
      "needs_background": "light"
     },
     "output_type": "display_data"
    }
   ],
   "source": [
    "#MC\n",
    "pmf_x = [(x+2)/42 for x in range(1,8)]\n",
    "cdf_x = np.cumsum(pmf_x)\n",
    "ax = plt.subplot()\n",
    "\n",
    "plt.bar(x = np.arange(1,8), height = pmf_x, label='pmf')\n",
    "plt.step(x = np.arange(1,8), y = cdf_x, color = 'red', label='cdf')\n",
    "\n",
    "plt.suptitle('PMF vs CDF of $X$')\n",
    "plt.title('CDF is shown in red', color='grey')\n",
    "plt.xlabel('$X$')\n",
    "plt.ylabel(\"Probability\")\n",
    "plt.legend();"
   ]
  },
  {
   "cell_type": "markdown",
   "metadata": {},
   "source": [
    "## Probability Distribution Function (PDF)<a name='pdf'> </a>\n",
    "\n",
    "If $X$ is a continuous random variable, we cannot represent it as a probability table or barplot. For example, if $X$ is the height of the university male students, all the possible outcomes of $X$ within an interval cannot be listed. We can show the **probability distribution** of a continuous random variable using a smooth curve called **Probability Density Curve**. \n",
    "\n",
    "<img src='../images/betweenProb.png'>\n",
    "\n",
    "The curve represents probabilities by area. The total area under the density curve equals 1."
   ]
  },
  {
   "cell_type": "markdown",
   "metadata": {},
   "source": [
    "<div class = \"alert alert-block alert-info\">\n",
    "<b>Example</b>\n",
    "<p>\n",
    "    If $X$ is the height of male university students, the area of the red section in the following figure shows $P(150 \\leq X \\leq 160)$.\n",
    "\n",
    "<img src='../images/CountPDF.png'>\n",
    "\n",
    "If $f(x)$ represents the Probability Distribution Function for a continuous random variable $X$, then <br>\n",
    "\n",
    "$P(a \\leq X \\leq b)$= area between a and b under the density curve=$\\int_{a}^{b} f(x)\\, dx$\n",
    "</div>"
   ]
  },
  {
   "cell_type": "markdown",
   "metadata": {},
   "source": [
    "## Cumulative Distribution Function (CDF) for continuous random variables<a name='continuouscdf'> </a>\n",
    "\n",
    "Some properties of the CDF are:\n",
    "- The CDF is non-decreasing with x\n",
    "- It starts with 0 and ends with 1\n",
    "\n",
    "For continuous random variables, the CDF is also defined as $CDF_X(x) = P(X \\leq x)$.\n",
    "\n",
    "In the discrete case, the sum of the PMF from the left is the height of the CDF; in the continuous case, the integral of the PDF from the left (the area under the curve on the left) is the height of the CDF. $$CDF(x) = \\int_{- \\infty }^{x} PDF(t) dt$$\n",
    "\n",
    "Also, differentiation on the CDF yields the PDF. $$PDF(x) = \\frac{d} {dx} CDF(x)$$.\n",
    "\n",
    "**Attention**: We have seen that for a discrete random variable (e.g. the outcome of rolling a dice), whether we have a strict inequality or not does matter when solving for probabilities. But, for a continuous random variable like height, the probability of a height of less than or equal to 170 will be the same as the probability of a height of strictly less than 170. In other words,\n",
    "\n",
    "$$P(X \\leq x)=P(X < x)$$\n",
    "\n",
    "<img src ='../images/ineqProb.png'>\n",
    "\n",
    "Visually, in terms of our density curve, the area under the curve up to and including a certain point is the same as the area up to and excluding the point, because there is no area over a single point. \n",
    "\n",
    "Conceptually, because a continuous random variable has infinitely many possible values, technically the probability of any single value occurring is zero!\n",
    "\n",
    "$$P(X = x)=0$$\n",
    "\n",
    "<img src='../images/equaProb.png'>\n",
    "\n",
    "It should be clear now why the total area under any probability density curve must be 1. The total area under the curve represents P(X gets a value in the interval of its possible values). Clearly, according to the rules of probability this must be 1, or always true.\n",
    "\n",
    "$$\\int_{-\\infty}^{\\infty} f(x)\\, dx =1$$\n",
    "\n",
    "<img src='../images/totalProb.png'>\n",
    "\n",
    "Recall the complement rule. Since $P(X \\geq x)$ is the complementary event of $P(X < x)$, <br><br>\n",
    "$$P(X \\geq x)=1-P(X < x)$$\n",
    "\n",
    "<img src='../images/compProb.png'>"
   ]
  },
  {
   "cell_type": "markdown",
   "metadata": {},
   "source": [
    "<div class = \"alert alert-block alert-info\">\n",
    "<b>Example</b>\n",
    "<p>\n",
    "Below is an example of a probability distribution function, with its CDF, of a skewed distribution:\n",
    "    </div>"
   ]
  },
  {
   "cell_type": "code",
   "execution_count": 23,
   "metadata": {},
   "outputs": [
    {
     "data": {
      "text/plain": [
       "(array([0.00000000e+00, 1.96039735e-04, 7.68631551e-04, 1.69517616e-03,\n",
       "        2.95397231e-03, 4.52418709e-03, 6.38582714e-03, 8.51971071e-03,\n",
       "        1.09074405e-02, 1.35313774e-02, 1.63746151e-02, 1.94209549e-02,\n",
       "        2.26548824e-02, 2.60615436e-02, 2.96267227e-02, 3.33368199e-02,\n",
       "        3.71788307e-02, 4.11403247e-02, 4.52094259e-02, 4.93747937e-02,\n",
       "        5.36256037e-02, 5.79515295e-02, 6.23427256e-02, 6.67898097e-02,\n",
       "        7.12838467e-02, 7.58163325e-02, 8.03791781e-02, 8.49646952e-02,\n",
       "        8.95655812e-02, 9.41749053e-02, 9.87860945e-02, 1.03392921e-01,\n",
       "        1.07989488e-01, 1.12570221e-01, 1.17129849e-01, 1.21663399e-01,\n",
       "        1.26166185e-01, 1.30633790e-01, 1.35062064e-01, 1.39447109e-01,\n",
       "        1.43785269e-01, 1.48073122e-01, 1.52307473e-01, 1.56485338e-01,\n",
       "        1.60603943e-01, 1.64660712e-01, 1.68653258e-01, 1.72579378e-01,\n",
       "        1.76437042e-01, 1.80224390e-01, 1.83939721e-01, 1.87581488e-01,\n",
       "        1.91148292e-01, 1.94638874e-01, 1.98052111e-01, 2.01387006e-01,\n",
       "        2.04642687e-01, 2.07818400e-01, 2.10913502e-01, 2.13927458e-01,\n",
       "        2.16859833e-01, 2.19710290e-01, 2.22478587e-01, 2.25164566e-01,\n",
       "        2.27768157e-01, 2.30289365e-01, 2.32728275e-01, 2.35085041e-01,\n",
       "        2.37359887e-01, 2.39553098e-01, 2.41665025e-01, 2.43696072e-01,\n",
       "        2.45646700e-01, 2.47517422e-01, 2.49308796e-01, 2.51021430e-01,\n",
       "        2.52655972e-01, 2.54213110e-01, 2.55693571e-01, 2.57098118e-01,\n",
       "        2.58427543e-01, 2.59682673e-01, 2.60864361e-01, 2.61973487e-01,\n",
       "        2.63010955e-01, 2.63977692e-01, 2.64874646e-01, 2.65702782e-01,\n",
       "        2.66463085e-01, 2.67156553e-01, 2.67784199e-01, 2.68347049e-01,\n",
       "        2.68846139e-01, 2.69282516e-01, 2.69657235e-01, 2.69971358e-01,\n",
       "        2.70225953e-01, 2.70422093e-01, 2.70560855e-01, 2.70643319e-01,\n",
       "        2.70670566e-01, 2.70643680e-01, 2.70563742e-01, 2.70431833e-01,\n",
       "        2.70249035e-01, 2.70016424e-01, 2.69735076e-01, 2.69406060e-01,\n",
       "        2.69030442e-01, 2.68609285e-01, 2.68143643e-01, 2.67634566e-01,\n",
       "        2.67083096e-01, 2.66490268e-01, 2.65857110e-01, 2.65184642e-01,\n",
       "        2.64473874e-01, 2.63725808e-01, 2.62941438e-01, 2.62121746e-01,\n",
       "        2.61267705e-01, 2.60380280e-01, 2.59460423e-01, 2.58509075e-01,\n",
       "        2.57527167e-01, 2.56515621e-01, 2.55475343e-01, 2.54407232e-01,\n",
       "        2.53312173e-01, 2.52191040e-01, 2.51044694e-01, 2.49873986e-01,\n",
       "        2.48679752e-01, 2.47462819e-01, 2.46223999e-01, 2.44964094e-01,\n",
       "        2.43683892e-01, 2.42384168e-01, 2.41065687e-01, 2.39729200e-01,\n",
       "        2.38375445e-01, 2.37005149e-01, 2.35619026e-01, 2.34217776e-01,\n",
       "        2.32802088e-01, 2.31372640e-01, 2.29930096e-01, 2.28475106e-01,\n",
       "        2.27008312e-01, 2.25530341e-01, 2.24041808e-01, 2.22543316e-01,\n",
       "        2.21035457e-01, 2.19518811e-01, 2.17993946e-01, 2.16461418e-01,\n",
       "        2.14921770e-01, 2.13375537e-01, 2.11823240e-01, 2.10265389e-01,\n",
       "        2.08702484e-01, 2.07135013e-01, 2.05563453e-01, 2.03988269e-01,\n",
       "        2.02409919e-01, 2.00828846e-01, 1.99245486e-01, 1.97660263e-01,\n",
       "        1.96073590e-01, 1.94485871e-01, 1.92897500e-01, 1.91308862e-01,\n",
       "        1.89720330e-01, 1.88132269e-01, 1.86545035e-01, 1.84958973e-01,\n",
       "        1.83374421e-01, 1.81791705e-01, 1.80211144e-01, 1.78633050e-01,\n",
       "        1.77057721e-01, 1.75485453e-01, 1.73916528e-01, 1.72351224e-01,\n",
       "        1.70789807e-01, 1.69232539e-01, 1.67679670e-01, 1.66131446e-01,\n",
       "        1.64588104e-01, 1.63049872e-01, 1.61516973e-01, 1.59989621e-01,\n",
       "        1.58468024e-01, 1.56952383e-01, 1.55442891e-01, 1.53939737e-01,\n",
       "        1.52443099e-01, 1.50953153e-01, 1.49470067e-01, 1.47994001e-01,\n",
       "        1.46525111e-01, 1.45063547e-01, 1.43609453e-01, 1.42162966e-01,\n",
       "        1.40724218e-01, 1.39293337e-01, 1.37870443e-01, 1.36455653e-01,\n",
       "        1.35049077e-01, 1.33650822e-01, 1.32260988e-01, 1.30879670e-01,\n",
       "        1.29506962e-01, 1.28142948e-01, 1.26787711e-01, 1.25441328e-01,\n",
       "        1.24103873e-01, 1.22775415e-01, 1.21456019e-01, 1.20145745e-01,\n",
       "        1.18844650e-01, 1.17552788e-01, 1.16270207e-01, 1.14996953e-01,\n",
       "        1.13733068e-01, 1.12478590e-01, 1.11233555e-01, 1.09997993e-01,\n",
       "        1.08771934e-01, 1.07555403e-01, 1.06348422e-01, 1.05151010e-01,\n",
       "        1.03963183e-01, 1.02784955e-01, 1.01616337e-01, 1.00457336e-01,\n",
       "        9.93079569e-02, 9.81682035e-02, 9.70380757e-02, 9.59175714e-02,\n",
       "        9.48066860e-02, 9.37054128e-02, 9.26137427e-02, 9.15316647e-02,\n",
       "        9.04591654e-02, 8.93962298e-02, 8.83428405e-02, 8.72989784e-02,\n",
       "        8.62646227e-02, 8.52397505e-02, 8.42243375e-02, 8.32183574e-02,\n",
       "        8.22217826e-02, 8.12345838e-02, 8.02567300e-02, 7.92881891e-02,\n",
       "        7.83289273e-02, 7.73789096e-02, 7.64380996e-02, 7.55064597e-02,\n",
       "        7.45839510e-02, 7.36705335e-02, 7.27661660e-02, 7.18708064e-02,\n",
       "        7.09844113e-02, 7.01069364e-02, 6.92383365e-02, 6.83785654e-02,\n",
       "        6.75275761e-02, 6.66853205e-02, 6.58517501e-02, 6.50268154e-02,\n",
       "        6.42104661e-02, 6.34026512e-02, 6.26033193e-02, 6.18124180e-02,\n",
       "        6.10298946e-02, 6.02556956e-02, 5.94897670e-02, 5.87320545e-02,\n",
       "        5.79825031e-02, 5.72410573e-02, 5.65076614e-02, 5.57822592e-02,\n",
       "        5.50647940e-02, 5.43552089e-02, 5.36534466e-02, 5.29594496e-02,\n",
       "        5.22731601e-02, 5.15945199e-02, 5.09234708e-02, 5.02599543e-02,\n",
       "        4.96039115e-02, 4.89552838e-02, 4.83140120e-02, 4.76800371e-02,\n",
       "        4.70532997e-02, 4.64337407e-02, 4.58213006e-02, 4.52159199e-02,\n",
       "        4.46175392e-02, 4.40260990e-02, 4.34415398e-02, 4.28638022e-02,\n",
       "        4.22928267e-02, 4.17285539e-02, 4.11709245e-02, 4.06198792e-02,\n",
       "        4.00753589e-02, 3.95373044e-02, 3.90056568e-02, 3.84803573e-02,\n",
       "        3.79613472e-02, 3.74485679e-02, 3.69419610e-02, 3.64414683e-02,\n",
       "        3.59470318e-02, 3.54585935e-02, 3.49760959e-02, 3.44994814e-02,\n",
       "        3.40286930e-02, 3.35636734e-02, 3.31043661e-02, 3.26507143e-02,\n",
       "        3.22026620e-02, 3.17601530e-02, 3.13231315e-02, 3.08915421e-02,\n",
       "        3.04653297e-02, 3.00444391e-02, 2.96288159e-02, 2.92184056e-02,\n",
       "        2.88131542e-02, 2.84130080e-02, 2.80179135e-02, 2.76278177e-02,\n",
       "        2.72426676e-02, 2.68624110e-02, 2.64869955e-02, 2.61163695e-02,\n",
       "        2.57504814e-02, 2.53892801e-02, 2.50327148e-02, 2.46807351e-02,\n",
       "        2.43332907e-02, 2.39903321e-02, 2.36518098e-02, 2.33176748e-02,\n",
       "        2.29878783e-02, 2.26623721e-02, 2.23411082e-02, 2.20240389e-02,\n",
       "        2.17111171e-02, 2.14022959e-02, 2.10975288e-02, 2.07967696e-02,\n",
       "        2.04999726e-02, 2.02070924e-02, 1.99180840e-02, 1.96329026e-02,\n",
       "        1.93515042e-02, 1.90738446e-02, 1.87998805e-02, 1.85295685e-02,\n",
       "        1.82628661e-02, 1.79997307e-02, 1.77401202e-02, 1.74839931e-02,\n",
       "        1.72313080e-02, 1.69820240e-02, 1.67361006e-02, 1.64934975e-02,\n",
       "        1.62541750e-02, 1.60180935e-02, 1.57852141e-02, 1.55554979e-02,\n",
       "        1.53289067e-02, 1.51054025e-02, 1.48849477e-02, 1.46675049e-02,\n",
       "        1.44530374e-02, 1.42415085e-02, 1.40328822e-02, 1.38271226e-02,\n",
       "        1.36241941e-02, 1.34240618e-02, 1.32266909e-02, 1.30320469e-02,\n",
       "        1.28400959e-02, 1.26508041e-02, 1.24641381e-02, 1.22800649e-02,\n",
       "        1.20985519e-02, 1.19195667e-02, 1.17430774e-02, 1.15690522e-02,\n",
       "        1.13974598e-02, 1.12282694e-02, 1.10614501e-02, 1.08969717e-02,\n",
       "        1.07348041e-02, 1.05749177e-02, 1.04172831e-02, 1.02618713e-02,\n",
       "        1.01086535e-02, 9.95760142e-03, 9.80868685e-03, 9.66188205e-03,\n",
       "        9.51715954e-03, 9.37449215e-03, 9.23385302e-03, 9.09521560e-03,\n",
       "        8.95855361e-03, 8.82384109e-03, 8.69105239e-03, 8.56016211e-03,\n",
       "        8.43114518e-03, 8.30397679e-03, 8.17863243e-03, 8.05508789e-03,\n",
       "        7.93331920e-03, 7.81330270e-03, 7.69501499e-03, 7.57843297e-03,\n",
       "        7.46353377e-03, 7.35029483e-03, 7.23869383e-03, 7.12870873e-03,\n",
       "        7.02031774e-03, 6.91349933e-03, 6.80823225e-03, 6.70449547e-03,\n",
       "        6.60226825e-03, 6.50153006e-03, 6.40226066e-03, 6.30444002e-03,\n",
       "        6.20804837e-03, 6.11306618e-03, 6.01947417e-03, 5.92725327e-03,\n",
       "        5.83638467e-03, 5.74684977e-03, 5.65863022e-03, 5.57170788e-03,\n",
       "        5.48606484e-03, 5.40168343e-03, 5.31854618e-03, 5.23663584e-03,\n",
       "        5.15593538e-03, 5.07642799e-03, 4.99809707e-03, 4.92092621e-03,\n",
       "        4.84489923e-03, 4.77000016e-03, 4.69621321e-03, 4.62352280e-03,\n",
       "        4.55191356e-03, 4.48137030e-03, 4.41187803e-03, 4.34342196e-03,\n",
       "        4.27598749e-03, 4.20956019e-03, 4.14412583e-03, 4.07967038e-03,\n",
       "        4.01617996e-03, 3.95364089e-03, 3.89203967e-03, 3.83136296e-03,\n",
       "        3.77159760e-03, 3.71273063e-03, 3.65474922e-03, 3.59764072e-03,\n",
       "        3.54139267e-03, 3.48599274e-03, 3.43142879e-03, 3.37768882e-03,\n",
       "        3.32476101e-03, 3.27263369e-03, 3.22129532e-03, 3.17073456e-03,\n",
       "        3.12094018e-03, 3.07190112e-03, 3.02360647e-03, 2.97604547e-03,\n",
       "        2.92920748e-03, 2.88308202e-03, 2.83765877e-03, 2.79292751e-03,\n",
       "        2.74887819e-03, 2.70550089e-03, 2.66278580e-03, 2.62072329e-03,\n",
       "        2.57930381e-03, 2.53851797e-03, 2.49835652e-03, 2.45881029e-03,\n",
       "        2.41987029e-03, 2.38152762e-03, 2.34377351e-03, 2.30659931e-03,\n",
       "        2.26999649e-03]),\n",
       " array([0.00000000e+00, 1.31349245e-06, 1.03517303e-05, 3.44182402e-05,\n",
       "        8.03735940e-05, 1.54653070e-04, 2.63283732e-04, 4.11900938e-04,\n",
       "        6.05764300e-04, 8.49773110e-04, 1.14848124e-03, 1.50611158e-03,\n",
       "        1.92656988e-03, 2.41345829e-03, 2.97008827e-03, 3.59949318e-03,\n",
       "        4.30444036e-03, 5.08744284e-03, 5.95077061e-03, 6.89646154e-03,\n",
       "        7.92633187e-03, 9.04198635e-03, 1.02448281e-02, 1.15360679e-02,\n",
       "        1.29167334e-02, 1.43876780e-02, 1.59495890e-02, 1.76029961e-02,\n",
       "        1.93482792e-02, 2.11856756e-02, 2.31152878e-02, 2.51370902e-02,\n",
       "        2.72509361e-02, 2.94565641e-02, 3.17536042e-02, 3.41415841e-02,\n",
       "        3.66199350e-02, 3.91879969e-02, 4.18450243e-02, 4.45901912e-02,\n",
       "        4.74225961e-02, 5.03412666e-02, 5.33451642e-02, 5.64331888e-02,\n",
       "        5.96041826e-02, 6.28569343e-02, 6.61901829e-02, 6.96026217e-02,\n",
       "        7.30929016e-02, 7.66596346e-02, 8.03013971e-02, 8.40167330e-02,\n",
       "        8.78041568e-02, 9.16621565e-02, 9.55891961e-02, 9.95837186e-02,\n",
       "        1.03644148e-01, 1.07768893e-01, 1.11956347e-01, 1.16204892e-01,\n",
       "        1.20512901e-01, 1.24878739e-01, 1.29300765e-01, 1.33777334e-01,\n",
       "        1.38306798e-01, 1.42887511e-01, 1.47517824e-01, 1.52196094e-01,\n",
       "        1.56920680e-01, 1.61689945e-01, 1.66502262e-01, 1.71356007e-01,\n",
       "        1.76249569e-01, 1.81181343e-01, 1.86149736e-01, 1.91153169e-01,\n",
       "        1.96190073e-01, 2.01258892e-01, 2.06358086e-01, 2.11486129e-01,\n",
       "        2.16641510e-01, 2.21822735e-01, 2.27028327e-01, 2.32256826e-01,\n",
       "        2.37506789e-01, 2.42776793e-01, 2.48065432e-01, 2.53371320e-01,\n",
       "        2.58693091e-01, 2.64029398e-01, 2.69378914e-01, 2.74740334e-01,\n",
       "        2.80112371e-01, 2.85493761e-01, 2.90883261e-01, 2.96279647e-01,\n",
       "        3.01681718e-01, 3.07088295e-01, 3.12498219e-01, 3.17910354e-01,\n",
       "        3.23323584e-01, 3.28736816e-01, 3.34148977e-01, 3.39559019e-01,\n",
       "        3.44965911e-01, 3.50368648e-01, 3.55766243e-01, 3.61157733e-01,\n",
       "        3.66542175e-01, 3.71918647e-01, 3.77286250e-01, 3.82644104e-01,\n",
       "        3.87991350e-01, 3.93327152e-01, 3.98650692e-01, 4.03961174e-01,\n",
       "        4.09257822e-01, 4.14539880e-01, 4.19806613e-01, 4.25057302e-01,\n",
       "        4.30291253e-01, 4.35507788e-01, 4.40706248e-01, 4.45885995e-01,\n",
       "        4.51046408e-01, 4.56186884e-01, 4.61306841e-01, 4.66405712e-01,\n",
       "        4.71482951e-01, 4.76538025e-01, 4.81570424e-01, 4.86579651e-01,\n",
       "        4.91565227e-01, 4.96526690e-01, 5.01463594e-01, 5.06375509e-01,\n",
       "        5.11262022e-01, 5.16122734e-01, 5.20957264e-01, 5.25765242e-01,\n",
       "        5.30546317e-01, 5.35300149e-01, 5.40026417e-01, 5.44724810e-01,\n",
       "        5.49395032e-01, 5.54036801e-01, 5.58649850e-01, 5.63233922e-01,\n",
       "        5.67788776e-01, 5.72314180e-01, 5.76809919e-01, 5.81275786e-01,\n",
       "        5.85711589e-01, 5.90117146e-01, 5.94492287e-01, 5.98836853e-01,\n",
       "        6.03150696e-01, 6.07433680e-01, 6.11685677e-01, 6.15906572e-01,\n",
       "        6.20096259e-01, 6.24254641e-01, 6.28381632e-01, 6.32477155e-01,\n",
       "        6.36541142e-01, 6.40573534e-01, 6.44574280e-01, 6.48543341e-01,\n",
       "        6.52480681e-01, 6.56386277e-01, 6.60260112e-01, 6.64102176e-01,\n",
       "        6.67912467e-01, 6.71690992e-01, 6.75437763e-01, 6.79152801e-01,\n",
       "        6.82836132e-01, 6.86487790e-01, 6.90107815e-01, 6.93696252e-01,\n",
       "        6.97253155e-01, 7.00778582e-01, 7.04272596e-01, 7.07735267e-01,\n",
       "        7.11166671e-01, 7.14566887e-01, 7.17936001e-01, 7.21274105e-01,\n",
       "        7.24581292e-01, 7.27857663e-01, 7.31103322e-01, 7.34318379e-01,\n",
       "        7.37502945e-01, 7.40657139e-01, 7.43781082e-01, 7.46874897e-01,\n",
       "        7.49938715e-01, 7.52972666e-01, 7.55976887e-01, 7.58951515e-01,\n",
       "        7.61896694e-01, 7.64812569e-01, 7.67699286e-01, 7.70556998e-01,\n",
       "        7.73385856e-01, 7.76186019e-01, 7.78957643e-01, 7.81700890e-01,\n",
       "        7.84415924e-01, 7.87102909e-01, 7.89762013e-01, 7.92393405e-01,\n",
       "        7.94997257e-01, 7.97573742e-01, 8.00123034e-01, 8.02645309e-01,\n",
       "        8.05140746e-01, 8.07609524e-01, 8.10051823e-01, 8.12467826e-01,\n",
       "        8.14857714e-01, 8.17221673e-01, 8.19559888e-01, 8.21872544e-01,\n",
       "        8.24159828e-01, 8.26421929e-01, 8.28659035e-01, 8.30871334e-01,\n",
       "        8.33059018e-01, 8.35222275e-01, 8.37361298e-01, 8.39476276e-01,\n",
       "        8.41567402e-01, 8.43634867e-01, 8.45678864e-01, 8.47699585e-01,\n",
       "        8.49697222e-01, 8.51671967e-01, 8.53624014e-01, 8.55553555e-01,\n",
       "        8.57460781e-01, 8.59345886e-01, 8.61209062e-01, 8.63050500e-01,\n",
       "        8.64870392e-01, 8.66668930e-01, 8.68446305e-01, 8.70202707e-01,\n",
       "        8.71938327e-01, 8.73653355e-01, 8.75347981e-01, 8.77022392e-01,\n",
       "        8.78676778e-01, 8.80311326e-01, 8.81926223e-01, 8.83521657e-01,\n",
       "        8.85097813e-01, 8.86654876e-01, 8.88193030e-01, 8.89712461e-01,\n",
       "        8.91213350e-01, 8.92695879e-01, 8.94160231e-01, 8.95606586e-01,\n",
       "        8.97035123e-01, 8.98446022e-01, 8.99839460e-01, 9.01215614e-01,\n",
       "        9.02574661e-01, 9.03916776e-01, 9.05242132e-01, 9.06550903e-01,\n",
       "        9.07843262e-01, 9.09119379e-01, 9.10379424e-01, 9.11623568e-01,\n",
       "        9.12851977e-01, 9.14064819e-01, 9.15262260e-01, 9.16444464e-01,\n",
       "        9.17611596e-01, 9.18763819e-01, 9.19901292e-01, 9.21024178e-01,\n",
       "        9.22132636e-01, 9.23226823e-01, 9.24306896e-01, 9.25373012e-01,\n",
       "        9.26425326e-01, 9.27463990e-01, 9.28489157e-01, 9.29500979e-01,\n",
       "        9.30499605e-01, 9.31485185e-01, 9.32457865e-01, 9.33417794e-01,\n",
       "        9.34365115e-01, 9.35299974e-01, 9.36222512e-01, 9.37132873e-01,\n",
       "        9.38031196e-01, 9.38917620e-01, 9.39792285e-01, 9.40655328e-01,\n",
       "        9.41506883e-01, 9.42347085e-01, 9.43176069e-01, 9.43993966e-01,\n",
       "        9.44800908e-01, 9.45597024e-01, 9.46382443e-01, 9.47157292e-01,\n",
       "        9.47921699e-01, 9.48675788e-01, 9.49419683e-01, 9.50153507e-01,\n",
       "        9.50877382e-01, 9.51591428e-01, 9.52295765e-01, 9.52990511e-01,\n",
       "        9.53675783e-01, 9.54351697e-01, 9.55018368e-01, 9.55675910e-01,\n",
       "        9.56324434e-01, 9.56964053e-01, 9.57594877e-01, 9.58217015e-01,\n",
       "        9.58830574e-01, 9.59435663e-01, 9.60032387e-01, 9.60620851e-01,\n",
       "        9.61201158e-01, 9.61773411e-01, 9.62337712e-01, 9.62894161e-01,\n",
       "        9.63442857e-01, 9.63983900e-01, 9.64517386e-01, 9.65043412e-01,\n",
       "        9.65562072e-01, 9.66073462e-01, 9.66577675e-01, 9.67074801e-01,\n",
       "        9.67564934e-01, 9.68048163e-01, 9.68524577e-01, 9.68994265e-01,\n",
       "        9.69457313e-01, 9.69913808e-01, 9.70363836e-01, 9.70807481e-01,\n",
       "        9.71244825e-01, 9.71675953e-01, 9.72100944e-01, 9.72519881e-01,\n",
       "        9.72932841e-01, 9.73339906e-01, 9.73741151e-01, 9.74136654e-01,\n",
       "        9.74526492e-01, 9.74910740e-01, 9.75289471e-01, 9.75662759e-01,\n",
       "        9.76030677e-01, 9.76393298e-01, 9.76750690e-01, 9.77102926e-01,\n",
       "        9.77450073e-01, 9.77792201e-01, 9.78129376e-01, 9.78461667e-01,\n",
       "        9.78789138e-01, 9.79111855e-01, 9.79429883e-01, 9.79743285e-01,\n",
       "        9.80052124e-01, 9.80356462e-01, 9.80656360e-01, 9.80951880e-01,\n",
       "        9.81243080e-01, 9.81530021e-01, 9.81812760e-01, 9.82091355e-01,\n",
       "        9.82365864e-01, 9.82636342e-01, 9.82902845e-01, 9.83165427e-01,\n",
       "        9.83424144e-01, 9.83679049e-01, 9.83930194e-01, 9.84177632e-01,\n",
       "        9.84421414e-01, 9.84661591e-01, 9.84898213e-01, 9.85131330e-01,\n",
       "        9.85360991e-01, 9.85587245e-01, 9.85810138e-01, 9.86029718e-01,\n",
       "        9.86246032e-01, 9.86459126e-01, 9.86669044e-01, 9.86875832e-01,\n",
       "        9.87079533e-01, 9.87280192e-01, 9.87477852e-01, 9.87672554e-01,\n",
       "        9.87864341e-01, 9.88053254e-01, 9.88239334e-01, 9.88422622e-01,\n",
       "        9.88603156e-01, 9.88780977e-01, 9.88956122e-01, 9.89128631e-01,\n",
       "        9.89298541e-01, 9.89465890e-01, 9.89630713e-01, 9.89793047e-01,\n",
       "        9.89952928e-01, 9.90110391e-01, 9.90265472e-01, 9.90418203e-01,\n",
       "        9.90568620e-01, 9.90716756e-01, 9.90862643e-01, 9.91006314e-01,\n",
       "        9.91147802e-01, 9.91287137e-01, 9.91424352e-01, 9.91559477e-01,\n",
       "        9.91692542e-01, 9.91823578e-01, 9.91952613e-01, 9.92079678e-01,\n",
       "        9.92204800e-01, 9.92328009e-01, 9.92449332e-01, 9.92568797e-01,\n",
       "        9.92686431e-01, 9.92802261e-01, 9.92916314e-01, 9.93028615e-01,\n",
       "        9.93139191e-01, 9.93248066e-01, 9.93355266e-01, 9.93460816e-01,\n",
       "        9.93564740e-01, 9.93667062e-01, 9.93767805e-01, 9.93866993e-01,\n",
       "        9.93964650e-01, 9.94060797e-01, 9.94155457e-01, 9.94248653e-01,\n",
       "        9.94340405e-01, 9.94430736e-01, 9.94519667e-01, 9.94607218e-01,\n",
       "        9.94693411e-01, 9.94778264e-01, 9.94861800e-01, 9.94944036e-01,\n",
       "        9.95024993e-01, 9.95104690e-01, 9.95183145e-01, 9.95260377e-01,\n",
       "        9.95336405e-01, 9.95411247e-01, 9.95484921e-01, 9.95557443e-01,\n",
       "        9.95628832e-01, 9.95699104e-01, 9.95768277e-01, 9.95836367e-01,\n",
       "        9.95903390e-01, 9.95969363e-01, 9.96034301e-01, 9.96098220e-01,\n",
       "        9.96161135e-01, 9.96223062e-01, 9.96284016e-01, 9.96344012e-01,\n",
       "        9.96403063e-01, 9.96461185e-01, 9.96518391e-01, 9.96574696e-01,\n",
       "        9.96630112e-01, 9.96684655e-01, 9.96738337e-01, 9.96791171e-01,\n",
       "        9.96843170e-01, 9.96894347e-01, 9.96944715e-01, 9.96994286e-01,\n",
       "        9.97043071e-01, 9.97091084e-01, 9.97138337e-01, 9.97184839e-01,\n",
       "        9.97230604e-01]),\n",
       " 2.674060313723559)"
      ]
     },
     "execution_count": 23,
     "metadata": {},
     "output_type": "execute_result"
    }
   ],
   "source": [
    "x = np.linspace(0,10,501)\n",
    "pdf_y, cdf_y, ppf_y = gamma.pdf(x, 3), gamma.cdf(x, 3), gamma.ppf(0.5, 3)\n",
    "pdf_y, cdf_y, ppf_y"
   ]
  },
  {
   "cell_type": "markdown",
   "metadata": {},
   "source": [
    "Note how the `scipy.stats` continuous random variable functions allow us to construct distribution classes. Specifically, the distribution classs we're interested in are: \n",
    " - `pdf`, for the probability distribution function,  \n",
    " - `cdf`, for the cumulative distribution function, and\n",
    " - `ppf` for the quantile function. \n",
    " \n",
    "It can be used as follows: `scipy.stats.rv_continuous.pdf()` with the distribution parameters as arguments. \n",
    "\n",
    "The gamma distribution classes take two parameters, `x` and the shape parameter `a`. The gamma distribution is out of the scope of this course, but is used here to illustrate a skewed distribution. "
   ]
  },
  {
   "cell_type": "code",
   "execution_count": 24,
   "metadata": {},
   "outputs": [
    {
     "data": {
      "text/plain": [
       "<matplotlib.legend.Legend at 0x7fdb83f73f70>"
      ]
     },
     "execution_count": 24,
     "metadata": {},
     "output_type": "execute_result"
    },
    {
     "data": {
      "image/png": "[encoded data removed]",
      "text/plain": [
       "<Figure size 432x288 with 1 Axes>"
      ]
     },
     "metadata": {
      "needs_background": "light"
     },
     "output_type": "display_data"
    }
   ],
   "source": [
    "x = np.linspace(0,10,501)\n",
    "ax = plt.subplot()\n",
    "ax.plot(x, pdf_y, label = \"PDF(x)\")\n",
    "ax.plot(x, cdf_y, label = \"CDF(x)\", color = 'red')\n",
    "plt.title(\"PDF & CDF of a GAMMA distribution $\\mu = 0.5, \\lambda = 3$\")\n",
    "ax.legend()\n",
    "plt.legend()"
   ]
  },
  {
   "cell_type": "code",
   "execution_count": 25,
   "metadata": {},
   "outputs": [
    {
     "data": {
      "text/plain": [
       "3.0"
      ]
     },
     "execution_count": 25,
     "metadata": {},
     "output_type": "execute_result"
    }
   ],
   "source": [
    "mean_y = gamma.mean(3, loc=0, scale=1)\n",
    "mean_y"
   ]
  },
  {
   "cell_type": "code",
   "execution_count": 26,
   "metadata": {},
   "outputs": [
    {
     "data": {
      "text/plain": [
       "2.674060313723559"
      ]
     },
     "execution_count": 26,
     "metadata": {},
     "output_type": "execute_result"
    }
   ],
   "source": [
    "gamma.median(3, loc=0, scale=1)"
   ]
  },
  {
   "cell_type": "code",
   "execution_count": 27,
   "metadata": {},
   "outputs": [],
   "source": [
    "# where is the median? \n",
    "median_y = gamma.ppf(0.5, 3)\n",
    "#gamma.median(3, loc=0, scale=1)"
   ]
  },
  {
   "cell_type": "code",
   "execution_count": 28,
   "metadata": {},
   "outputs": [
    {
     "data": {
      "text/plain": [
       "2.674060313723559"
      ]
     },
     "execution_count": 28,
     "metadata": {},
     "output_type": "execute_result"
    }
   ],
   "source": [
    "median_y"
   ]
  },
  {
   "cell_type": "code",
   "execution_count": 29,
   "metadata": {},
   "outputs": [
    {
     "data": {
      "text/plain": [
       "<matplotlib.legend.Legend at 0x7fdb840ccfa0>"
      ]
     },
     "execution_count": 29,
     "metadata": {},
     "output_type": "execute_result"
    },
    {
     "data": {
      "image/png": "[encoded data removed]",
      "text/plain": [
       "<Figure size 432x288 with 2 Axes>"
      ]
     },
     "metadata": {
      "needs_background": "light"
     },
     "output_type": "display_data"
    }
   ],
   "source": [
    "fg, ax = plt.subplots(nrows = 2, ncols = 1)\n",
    "plt.suptitle('Probability distribution and density function of gamma distribution\\n with shape parameter 3 and scale parameter 1 on interval (0,10)')\n",
    "\n",
    "ax[0].plot(x, cdf_y, color = 'black', label = 'cdf')\n",
    "ax[1].plot(x, pdf_y, label = 'pdf')\n",
    "\n",
    "for i, axis in enumerate(ax.flatten()):\n",
    "    axis.vlines(mean_y, ymin = 0, ymax = 1, color = 'orange', label = 'mean')\n",
    "    axis.vlines(median_y, ymin = 0, ymax = 1, color = 'red', label='median')\n",
    "    \n",
    "plt.legend()\n"
   ]
  },
  {
   "cell_type": "markdown",
   "metadata": {},
   "source": [
    "The **median** of the PDF is the value of $x$ where the area to the left equals the area to the right, i.e. the area coloured dark grey is equal to 0.5. <br>The **mean** of the PDF is the value of $x$ at which the probability density achieves its maximum."
   ]
  },
  {
   "cell_type": "markdown",
   "metadata": {},
   "source": [
    "# 3. Some common distributions <a name='common_distribution'> </a>\n",
    "\n",
    "## Normal Distribution<a name='normal'> </a>\n",
    "\n",
    "The normal distribution (also called Gaussian distribution) is perhaps the most important distribution in all of statistics, as we will see when we discuss the **Central Limit Theorem**. It is a continuous probability distribution with the following properties:\n",
    "- It is defined by two parameters: the mean, $\\mu$ and the standard deviation, $\\sigma$.\n",
    "- It is symmetric about the mean: $P(\\mu + x) = P(\\mu - x)$ for any $x$.\n",
    "- Its range is from negative infinity to positive infinity, although after a few standard deviations from the mean, the probability is negligible.\n",
    "- Its quantiles can be defined with the mean and standard deviations. For example, the 1st quartile is always $\\mu - 0.67\\sigma$.\n",
    "- The PDF of the normal distribution with mean $\\mu$ and standard deviation $\\sigma$ is $$PDF_X(x)= \\frac{1}{\\sqrt{2\\pi\\sigma}} \\exp{\\left(\\frac {- {(x - \\mu)}^2}{2\\sigma^2}\\right)}$$\n",
    "- The **standard normal distribution** is the normal distribution with zero mean and unit standard deviation.\n",
    "\n",
    "### Examples:\n",
    "    * heights of people\n",
    "    * errors in measurements\n",
    "    * blood pressure\n",
    "    * marks on a test\n",
    "\n",
    "### The Standard Deviation Rule\n",
    "Around 68% of the data are centered around the mean.\n",
    "\n",
    "$$P (\\mu-\\sigma \\leq x \\leq \\mu+\\sigma )= 0.68$$\n",
    "\n",
    "<table border=1>\n",
    "<tr><td>Standard Normal Distribution</td><td><img src=\"../images/Bell-Curve.png\" height=\"400\" width=\"600\"></td></tr></table>\n",
    "<br><br>\n",
    "\n"
   ]
  },
  {
   "cell_type": "markdown",
   "metadata": {},
   "source": [
    "For the distribution classes of the normal distribution, the `loc` argument specifies the mean, whereas the `scale` argument specifies the standard deviation. The syntax is: \n",
    "```python\n",
    "norm.pdf(x, loc, scale)\n",
    "```"
   ]
  },
  {
   "cell_type": "code",
   "execution_count": 30,
   "metadata": {},
   "outputs": [],
   "source": [
    "x = np.arange(-5, 5, .01)\n",
    "y1_pdf, y2_pdf = norm.pdf(x, 0, 2), norm.pdf(x, 0,1)"
   ]
  },
  {
   "cell_type": "code",
   "execution_count": 31,
   "metadata": {},
   "outputs": [
    {
     "data": {
      "text/plain": [
       "<matplotlib.legend.Legend at 0x7fdb841e6f70>"
      ]
     },
     "execution_count": 31,
     "metadata": {},
     "output_type": "execute_result"
    },
    {
     "data": {
      "image/png": "[encoded data removed]",
      "text/plain": [
       "<Figure size 432x288 with 1 Axes>"
      ]
     },
     "metadata": {
      "needs_background": "light"
     },
     "output_type": "display_data"
    }
   ],
   "source": [
    "ax = plt.subplot()\n",
    "ax.plot(x, y1_pdf, label = \"$\\mu = 0, \\sigma = 2$\")\n",
    "ax.plot(x, y2_pdf, label = \"$\\mu = 0, \\sigma = 1$\")\n",
    "plt.title(\"PDF of normal distributions\")\n",
    "ax.legend()"
   ]
  },
  {
   "cell_type": "code",
   "execution_count": 34,
   "metadata": {},
   "outputs": [
    {
     "data": {
      "text/plain": [
       "(0.05399096651318806, 0.12098536225957168)"
      ]
     },
     "execution_count": 34,
     "metadata": {},
     "output_type": "execute_result"
    }
   ],
   "source": [
    "norm.pdf(-2,0,1), norm.pdf(-2,0,2)"
   ]
  },
  {
   "cell_type": "code",
   "execution_count": 37,
   "metadata": {},
   "outputs": [
    {
     "data": {
      "text/plain": [
       "0.9331927987311419"
      ]
     },
     "execution_count": 37,
     "metadata": {},
     "output_type": "execute_result"
    }
   ],
   "source": [
    "# P(X<4), X ~ Normal(mean=0, sd=2)\n",
    "norm.cdf(3,0,2)"
   ]
  },
  {
   "cell_type": "code",
   "execution_count": 38,
   "metadata": {},
   "outputs": [
    {
     "data": {
      "text/plain": [
       "2.999999999999999"
      ]
     },
     "execution_count": 38,
     "metadata": {},
     "output_type": "execute_result"
    }
   ],
   "source": [
    "norm.ppf(0.9331927987311419, 0, 2)"
   ]
  },
  {
   "cell_type": "code",
   "execution_count": 39,
   "metadata": {},
   "outputs": [
    {
     "data": {
      "text/plain": [
       "<matplotlib.legend.Legend at 0x7fdb840537f0>"
      ]
     },
     "execution_count": 39,
     "metadata": {},
     "output_type": "execute_result"
    },
    {
     "data": {
      "image/png": "[encoded data removed]",
      "text/plain": [
       "<Figure size 432x288 with 1 Axes>"
      ]
     },
     "metadata": {
      "needs_background": "light"
     },
     "output_type": "display_data"
    }
   ],
   "source": [
    "x = np.arange(-5, 5, .01)\n",
    "y1_pdf, y2_cdf = norm.pdf(x, 0, 2), norm.cdf(x, 0, 2)\n",
    "ax = plt.subplot()\n",
    "ax.plot(x, y1_pdf, label = \"PDF(x)\")\n",
    "ax.plot(x, y2_cdf, label = \"CDF(x)\", color = 'red')\n",
    "plt.title(\"PDF & CDF of a normal distribution $\\mu = 0, \\sigma = 2$\")\n",
    "ax.legend()"
   ]
  },
  {
   "cell_type": "markdown",
   "metadata": {},
   "source": [
    "# Extra \n",
    "\n",
    "## Binomial Distribution<a name='binomial'> </a>\n",
    "\n",
    "The binomial distribution with parameters $n$ and $p$ is a discrete probability distribution of the number of successes in a sequence of $n$ independent binary (e.g. yes/no) experiments, each of which has probability $p$ of success.\n",
    "\n",
    "**Binomial Distribution characteristics:**\n",
    "\n",
    "- The process consists of a sequence of $n$ trials.\n",
    "- Only two possible outcomes, 'success' or 'failure'.\n",
    "    - The probability of success, $p$, is equal to $1 - q$, where $q$ is the probability of failure.\n",
    "- Trials are independent of one another: the outcome of previous trials do not influence future trials.\n",
    "- The values of $n$ and $p$ determine the shape of the binomial distribution.\n",
    "- Examples: \n",
    "    - Tossing a fair coin (heads = success, tails = failure, n = number of coin tosses made)\n",
    "    - Performance of a telephone sales team (sales closed = success, rejected customer = failure, n = number of phone calls made)\n",
    "\n",
    "**Probability Mass Function (PMF)**\n",
    "The probability of getting exactly $k$ successes in $n$ trials is given by\n",
    "    $$f(k;n,p) = Pr(X=k) =\\binom{n}{k}p^k(1-p)^{n-k}$$\n",
    "\n",
    "\n",
    "**Motivating question:** Suppose we toss a fair coin 3 times, what is the probability we get 0, 1, 2, or 3 heads?\n",
    "\n",
    "The Binomial distribution is given by the formula\n",
    "\n",
    "$$\\binom{n}{k}p^k(1-p)^{n-k}$$\n",
    "\n",
    "where $k$ is the number of successes, $n$ is the number of trials, and $p$ is the probability of success. \n",
    "In this formula, $\\binom{n}{k}$ is also known as the **binomial coefficient**. It can be read as \"$n$ choose $k$\". It represents the number of distinct sequences of length $n$ where there are $k$ successes.\n",
    "\n",
    "**The formula for the binomial coefficient is:** \n",
    "\n",
    "$$\\binom{n}{k} = C(n,k) = n\\mathrm{C}k = \\frac{n!}{k! (n-k)!} $$\n",
    "(This is just for your reference. You may recognise this as the Combinations formula)\n",
    "\n",
    "**Population mean and standard deviation**\n",
    "\n",
    "* The population mean of binomial random variable is $np$. \n",
    "* The population standard deviation is $\\sqrt{np(1-p)}$."
   ]
  },
  {
   "cell_type": "markdown",
   "metadata": {},
   "source": [
    "<div class = \"alert alert-block alert-info\">\n",
    "<b>Example</b>\n",
    "<p>\n",
    "Suppose you toss a fair coin 4 times, and you would like to know the probability of having 2 heads and 2 tails. Let us enumerate the event space \n",
    "\n",
    "$$\\{HHHH, HHHT, HHTH, HHTT, HTHH, HTHT, HTTH, HTTT, THHH, THHT, THTH, THTT, TTHH, TTHT, TTTH, TTTT\\}$$\n",
    "\n",
    "The number of events having 2 heads and 2 tails is $\\binom{4}{2}=6$. You can verify this by manually counting \n",
    "\n",
    "$$\\{HHTT, HTHT, HTTH, THHT, THTH, TTHH\\}$$\n",
    "\n",
    "The $2^4=16$ events in the event space are equally likely. Therefore the probability is 6 * (1/16) = 0.375. Equivalently $$\\binom{4}{2} 0.5^2 (1-0.5)^2 = 0.375$$\n",
    "</div>"
   ]
  },
  {
   "cell_type": "markdown",
   "metadata": {},
   "source": [
    "### Programmatic solution\n",
    "You can use `scipy.special.comb` to find $\\binom{4}{2}$:"
   ]
  },
  {
   "cell_type": "code",
   "execution_count": null,
   "metadata": {},
   "outputs": [],
   "source": [
    "from scipy.special import comb\n",
    "print(comb(4,2))\n",
    "print(comb(4,2)*(.5**2)*((1-.5)**2))"
   ]
  },
  {
   "cell_type": "markdown",
   "metadata": {},
   "source": [
    "Before we discuss the `scipy`-based solution, note that `scipy.stats` defines a probability mass function (`rv_discrete.pmf`) instead of a probability distribution function. "
   ]
  },
  {
   "cell_type": "code",
   "execution_count": null,
   "metadata": {},
   "outputs": [],
   "source": [
    "print(binom.pmf(3,10,.167))"
   ]
  },
  {
   "cell_type": "markdown",
   "metadata": {},
   "source": [
    "<div class = \"alert alert-block alert-info\">\n",
    "<b>Example</b>\n",
    "<p>\n",
    "Suppose that you work in a customer service department of a large retailer. Your colleague bets RM10 that there will be 2 or fewer complaints over the quality of service out of 100 sales made today. How likely is she to win that RM10?\n",
    "\n",
    "The probability that each individual customer will complain is 0.1. For the purposes of this experiment, you can assume that the probability each customer will complain remains constant and that each sale is identical to one another.\n",
    "\n",
    "\n",
    "The probability that $k$ is less than or equal to 2, $\\Pr{(k \\leq 2)}$ is equal to the sum of $\\Pr{(k=2)}$, $\\Pr{(k=1)}$, and $\\Pr{(k=0)}$, i.e.\n",
    "\n",
    "$$P(k \\leq 2)= P(k = 2) + P(k = 1) + P(k = 0)$$\n",
    "\n",
    "Given \n",
    "- $p = 0.1$\n",
    "- $n = 100$\n",
    "- $k = 2, 1, 0$\n",
    "\n",
    "$$\\binom{100}{2}0.1^20.9^{100-2} + \\binom{100}{1}0.1^10.9^{100-1} + \\binom{100}{0}0.1^00.9^{100-0} = 0.00194488465$$\n",
    "\n",
    "which means that there is a 0.19% chance for two or fewer complaints per 100 customers.\n",
    "</div>"
   ]
  },
  {
   "cell_type": "code",
   "execution_count": null,
   "metadata": {},
   "outputs": [],
   "source": [
    "print(binom.cdf(5, 100, 0.1)-binom.cdf(2, 100, 0.1))"
   ]
  },
  {
   "cell_type": "markdown",
   "metadata": {},
   "source": [
    "<div class = \"alert alert-block alert-info\">\n",
    "<b>Example</b>\n",
    "<p>\n",
    " Suppose a biased coin comes up heads with probability 0.3 when tossed. What is the probability of achieving <b>4</b> heads <b>after 6</b> tosses?\n",
    "    \\begin{equation*}\n",
    "     \\Pr(4{\\text{ heads}})=f(4)=\\Pr(X=4)={6 \\choose 4}0.3^{4}(1-0.3)^{6-4}\\approx 0.0595\n",
    "    \\end{equation*}\n",
    "    </div>"
   ]
  },
  {
   "cell_type": "code",
   "execution_count": null,
   "metadata": {},
   "outputs": [],
   "source": [
    "print(binom.pmf(4, 6, .3))"
   ]
  },
  {
   "cell_type": "markdown",
   "metadata": {},
   "source": [
    "\n",
    "\n",
    "### Normal distribution as limiting case of the binomial distribution\n",
    "\n",
    "We plot below the normal and binomial distributions with the same mean and standard deviations.\n",
    "\n",
    "Recall that for a binomial distribution $\\mu = np$ and $\\sigma = \\sqrt{np(1-p)}$. "
   ]
  },
  {
   "cell_type": "code",
   "execution_count": null,
   "metadata": {},
   "outputs": [],
   "source": [
    "x1 = np.linspace(0,10,501)\n",
    "norm_pdf = norm.pdf(x1, 5, 2.5 ** .5)\n",
    "\n",
    "x2 = np.arange(0,10)\n",
    "binom_pmf = binom.pmf(x2, 10, .5)"
   ]
  },
  {
   "cell_type": "code",
   "execution_count": null,
   "metadata": {},
   "outputs": [],
   "source": [
    "plt.bar(x = x2, height = binom_pmf, label = \"$X_2 \\sim B(n=10, p =.5)$\", color = 'aliceblue')\n",
    "plt.plot(x1, norm_pdf, label = \"$X_1 \\sim N(\\mu = 5, \\sigma = \\sqrt{2.5})$\")\n",
    "plt.legend()\n",
    "plt.title(\"PMF of normal distribution and PDF of binomial distribution\")"
   ]
  },
  {
   "cell_type": "code",
   "execution_count": null,
   "metadata": {},
   "outputs": [],
   "source": [
    "norm_cdf = norm.cdf(x1, 5, 2.5 ** .5)\n",
    "binom_cdf = binom.cdf(x2, 10, .5)\n",
    "\n",
    "plt.plot(x1, norm_cdf, label = \"$X_1 \\sim N(\\mu = 5, \\sigma = \\sqrt{2.5})$\")\n",
    "plt.step(x2, binom_cdf, label = \"$X_2 \\sim B(n=10, p =.5)$\")\n",
    "plt.legend()\n",
    "plt.title(\"CDF of normal and binomial distribution\")"
   ]
  },
  {
   "cell_type": "markdown",
   "metadata": {},
   "source": [
    "The normal distribution can be seen as the limit of the binomial distribution when the size parameter $n$ approaches infinity. For binomial distribution with large $n$, it is often convenient to approximate with the normal distribution having the same mean and variance.\n",
    "\n",
    "#### Normal approximation of binomial random variables\n",
    "To approximate a binomial distribution with a normal distribution, set the mean of the normal distribution as $\\mu=np$, and sd $\\sigma=\\sqrt{np(1-p)}$. As a rule of thumb, use the normal approximation for counts and proportions only if $np>10$ and $n(1-p)>10$.\n",
    "\n",
    "#### Poisson distribution as a limiting case of binomial distribution\n",
    "Below we introduce the Poisson distribution. It is also another limit of binomial distribution. In this case, the mean is fixed, and as $n$ increases to infinity, $p$ decreases so as to keep the mean $np$ constant. The limit is the Poisson distribution with parameter $\\lambda = np$."
   ]
  },
  {
   "cell_type": "markdown",
   "metadata": {},
   "source": [
    "## Poisson Distribution <a name='poisson'> </a>\n",
    "\n",
    "The Poisson Distribution is used to model the distribution of rare events occuring within a given time period. It has the following characteristics:\n",
    "\n",
    "- It is a discrete distribution taking integer values.\n",
    "- The number of observations ($x$) can theoretically range from zero to infinity, $0 \\leq X \\leq \\infty$.\n",
    "- The expected number of events $E(X)$ or lambda ($\\lambda$) is constant throughout the experiment.\n",
    "- Examples: \n",
    "    - The number of misprints on a page (or group of pages) on a book\n",
    "    - The number of earthquakes occuring during some fixed time span\n",
    "    - The number of deaths in a given period of time of the policyholders of a life insurance company\n",
    "\n",
    "**The probability mass function for a Poisson Distribution is given by**\n",
    "\n",
    "$$f( x) = \\frac{{e^{ - \\lambda } \\lambda ^x }}{{x!}}$$\n",
    "\n",
    "**Population mean and standard deviation**\n",
    "* The population mean of a Poisson random variable is $\\lambda$\n",
    "* The population standard deviation is $\\sqrt{\\lambda}$."
   ]
  },
  {
   "cell_type": "markdown",
   "metadata": {},
   "source": [
    "<div class = \"alert alert-block alert-info\">\n",
    "<b>Example</b>\n",
    "<p>\n",
    "Suppose that according to a typist's skills, 2 typos are made per page on average. What is the probability that 10 or fewer typos will appear in 3 pages?\n",
    "\n",
    "In 3 pages, the expected number of typos $\\lambda = 3 \\times 2 = 6$.\n",
    "\n",
    "$$P(X\\, \\leq \\, 10)= \\sum_{x=0}^{10} \\frac{e^{-6}6^x}{x!}= 0.9573$$ <br>which means there's a 95.7% chance that ten or fewer patrons will appear in the 3 pages. \n",
    "</div>"
   ]
  },
  {
   "cell_type": "markdown",
   "metadata": {},
   "source": [
    "### Programmatic solution"
   ]
  },
  {
   "cell_type": "code",
   "execution_count": null,
   "metadata": {},
   "outputs": [],
   "source": [
    "poisson.cdf(20, 20)"
   ]
  },
  {
   "cell_type": "code",
   "execution_count": null,
   "metadata": {},
   "outputs": [],
   "source": [
    "poisson.ppf(0.559,20)"
   ]
  },
  {
   "cell_type": "code",
   "execution_count": null,
   "metadata": {},
   "outputs": [],
   "source": [
    "x = np.arange(50)\n",
    "pois_pmf = poisson.pmf(x, 1.5)\n",
    "pois_cdf = poisson.cdf(x,1.5)\n",
    "plt.bar(x, height = pois_pmf, label = \"PMF\")\n",
    "plt.step(x, pois_cdf, color = 'orange', label = \"CDF\")\n",
    "plt.legend()\n",
    "plt.title(\"PMF and CDF of Poisson distribution with $\\mu=10$ on interval [0,9]\")"
   ]
  },
  {
   "cell_type": "markdown",
   "metadata": {},
   "source": [
    "## Exponential Distribution<a name='exponential'> </a>\n",
    "\n",
    "While the Poisson distribution models the number of events in a given time-frame, the exponential distribution models the time taken before an event occurs.\n",
    "\n",
    "It takes the parameter lambda ($\\lambda$), which is the probability that an event occurs per unit time at the start.\n",
    "\n",
    "The expected duration between events is given by the inverse of lambda \n",
    "\n",
    "- $E(X) = \\frac{1}{\\lambda}$\n",
    "- $Var[X] = \\frac{1}{\\lambda^2}$\n",
    "\n",
    "**The Probability Distribution Function (PDF) of the exponential distribution is given by:**\n",
    "\n",
    "$$ f(x) = \\lambda e^{-\\lambda x}, \\quad x \\ge 0. $$\n",
    "\n",
    "**The Cumulative Distribution Function (CDF) is given by:**\n",
    "\n",
    "$$ {\\displaystyle F(x)={\\begin{cases}1-e^{-\\lambda x}&x\\geq 0,\\\\0&x<0.\\end{cases}}} $$\n",
    "\n",
    "\n",
    "Note that the exponential distribution is **memoryless**, i.e. $\\frac{f(x)}{1-F(x)} = \\lambda$ is constant. Suppose we observe a decaying process that happens in time distributed exponentially. Conditioning upon the event that the decay has not happened at the present time, the distribution that the decay will happen $t$ time units in the future is the same as the distribution we have started off at time zero."
   ]
  },
  {
   "cell_type": "markdown",
   "metadata": {},
   "source": [
    "**Population mean and standard deviation**\n",
    "* The population mean of an exponential random variable is $1/\\lambda$. \n",
    "* The population sd of an exponential random variable is also $1/\\lambda$, and the variance is its square."
   ]
  },
  {
   "cell_type": "markdown",
   "metadata": {},
   "source": [
    "<div class = \"alert alert-block alert-warning\">\n",
    "<b>Exercise</b>\n",
    "<p>\n",
    "Assume the half-life decay of a material in minutes is an exponential random variable X with parameter λ = 1/10.\n",
    "\n",
    "\n",
    "Find the probability the material will decay in\n",
    "\n",
    "- less than 5 minutes\n",
    "- greater than 10 minutes\n",
    "- calculate the Expected Value & Variance\n",
    "- lesser than 10 minutes given that it does not decay in the first 5 minutes\n",
    "\n",
    ">**$\\mathbf{P(X\\leq 5)\\,with\\,\\lambda= 1/10}$** <br>\n",
    "> $P(X \\leq x) =  1 -  e^{-\\lambda x} $ <br>\n",
    "> $P(X \\leq 5) =  1 -  e^{-1/10*5} = 1 - 0.6066 = 0.3934$\n",
    "<br>\n",
    "\n",
    "> $\\mathbf{P(X \\geq 10)\\, with\\, \\lambda = 1/10}$<br>\n",
    ">$P(X \\geq 10) =  1 - P(X < 10)$<br>\n",
    ">$= 1 - ( 1 -  e^{-1/10*10}  )$<br>\n",
    ">$=  e^{-1/10*10} $<br>\n",
    ">$= 0.3679$\n",
    "\n",
    "> $E(X)=10, \\sigma = 100$<br>\n",
    "\n",
    "> $\\mathbf{P(X < 10 | X \\geq 5) \\,with\\, \\lambda = 1/10}$<br>\n",
    "By the memoryless property, <br>\n",
    "> $P(X < 10 | X \\geq 5)$ <br>\n",
    "> $= P(X < 10-5) = P(X < 5) $<br>\n",
    "> $= 1 -  e^{-1/10*5} $ <br>\n",
    "> $= 1 - 0.6066 = 0.3934$\n",
    "</div>"
   ]
  },
  {
   "cell_type": "markdown",
   "metadata": {},
   "source": [
    "Note that `scipy.stats.expon`, like other continuous distributions, takes three parameters: \n",
    "```python\n",
    "expon.pdf(x, loc, scale)\n",
    "```\n",
    "`scale` is equal to $1/\\lambda$ whereas `loc`  changes the location of the distribuion. Because we don't explicitly specify `loc`, explicitly specify the `scale` argument in your function call. "
   ]
  },
  {
   "cell_type": "markdown",
   "metadata": {},
   "source": [
    "### Programmatic solution"
   ]
  },
  {
   "cell_type": "code",
   "execution_count": null,
   "metadata": {},
   "outputs": [],
   "source": [
    "#MC \n",
    "#Type your answer here.\n",
    "\n",
    "expon.cdf(5, scale = 10)"
   ]
  },
  {
   "cell_type": "code",
   "execution_count": null,
   "metadata": {},
   "outputs": [],
   "source": [
    "#MC \n",
    "#Type your answer here.\n",
    "\n",
    "1 - expon.cdf(10, scale = 10)"
   ]
  },
  {
   "cell_type": "code",
   "execution_count": null,
   "metadata": {},
   "outputs": [],
   "source": [
    "#MC\n",
    "#Type your answer here.\n",
    "\n",
    "mu = 10\n",
    "var = 100"
   ]
  },
  {
   "cell_type": "code",
   "execution_count": null,
   "metadata": {},
   "outputs": [],
   "source": [
    "#MC\n",
    "#Type your answer here.\n",
    "\n",
    "(expon.cdf(10, scale = 10) - expon.cdf(5, scale = 10))/(1 - expon.cdf(5, scale = 10))"
   ]
  },
  {
   "cell_type": "code",
   "execution_count": null,
   "metadata": {},
   "outputs": [],
   "source": [
    "x = np.linspace(0,5, 501)"
   ]
  },
  {
   "cell_type": "code",
   "execution_count": null,
   "metadata": {},
   "outputs": [],
   "source": [
    "plt.plot(x, expon.pdf(x, scale = 1))\n",
    "plt.title(\"PDF of $X \\sim E(\\lambda = 1)$ on interval $[0,5]$\")"
   ]
  }
 ],
 "metadata": {
  "kernelspec": {
   "display_name": "Python 3",
   "language": "python",
   "name": "python3"
  },
  "language_info": {
   "codemirror_mode": {
    "name": "ipython",
    "version": 3
   },
   "file_extension": ".py",
   "mimetype": "text/x-python",
   "name": "python",
   "nbconvert_exporter": "python",
   "pygments_lexer": "ipython3",
   "version": "3.8.3"
  }
 },
 "nbformat": 4,
 "nbformat_minor": 2
}
